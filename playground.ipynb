{
 "cells": [
  {
   "cell_type": "code",
   "execution_count": 1,
   "metadata": {},
   "outputs": [],
   "source": [
    "from shopping_simulator.simulator import LossSimulation"
   ]
  },
  {
   "cell_type": "code",
   "execution_count": 2,
   "metadata": {},
   "outputs": [],
   "source": [
    "simulation = LossSimulation(\n",
    "    codelife=3,\n",
    "    unit_sales_per_day=4,\n",
    "    units_per_case=12,\n",
    "    lead_time=3,\n",
    "    seed=42\n",
    ")"
   ]
  },
  {
   "cell_type": "code",
   "execution_count": 7,
   "metadata": {},
   "outputs": [],
   "source": [
    "loss = simulation.calculate_min_loss(10000)"
   ]
  },
  {
   "cell_type": "code",
   "execution_count": 9,
   "metadata": {},
   "outputs": [
    {
     "data": {
      "text/plain": [
       "0.27142605915267787"
      ]
     },
     "execution_count": 9,
     "metadata": {},
     "output_type": "execute_result"
    }
   ],
   "source": [
    "loss.min_loss"
   ]
  },
  {
   "cell_type": "code",
   "execution_count": 10,
   "metadata": {},
   "outputs": [
    {
     "name": "stdout",
     "output_type": "stream",
     "text": [
      "{\n",
      "  \"min_loss\": 0.27142605915267787,\n",
      "  \"min_waste_loss\": 0.21742605915267788,\n",
      "  \"min_availability_loss\": 0.054,\n",
      "  \"min_stockout_threshold\": 0.22200077777777777,\n",
      "  \"thresholds\": [\n",
      "    1e-6,\n",
      "    0.11100088888888889,\n",
      "    0.22200077777777777,\n",
      "    0.3330006666666666,\n",
      "    0.4440005555555555,\n",
      "    0.5550004444444444,\n",
      "    0.6660003333333333,\n",
      "    0.7770002222222222,\n",
      "    0.8880001111111111,\n",
      "    0.999\n",
      "  ],\n",
      "  \"loss\": [\n",
      "    0.4903942115768463,\n",
      "    0.33716666666666667,\n",
      "    0.27142605915267787,\n",
      "    0.2733251833740831,\n",
      "    0.29212158808933003,\n",
      "    0.33226546906187626,\n",
      "    0.33253892215568864,\n",
      "    0.3367904191616766,\n",
      "    0.3488063872255489,\n",
      "    0.32079840319361275\n",
      "  ],\n",
      "  \"availability_loss\": [\n",
      "    0.0,\n",
      "    0.011,\n",
      "    0.054,\n",
      "    0.06,\n",
      "    0.075,\n",
      "    0.215,\n",
      "    0.227,\n",
      "    0.232,\n",
      "    0.252,\n",
      "    0.22\n",
      "  ],\n",
      "  \"waste_loss\": [\n",
      "    0.4903942115768463,\n",
      "    0.32616666666666666,\n",
      "    0.21742605915267788,\n",
      "    0.21332518337408313,\n",
      "    0.21712158808933002,\n",
      "    0.11726546906187625,\n",
      "    0.10553892215568862,\n",
      "    0.10479041916167664,\n",
      "    0.0968063872255489,\n",
      "    0.10079840319361277\n",
      "  ]\n",
      "}\n"
     ]
    }
   ],
   "source": [
    "print(loss.model_dump_json(indent=2))"
   ]
  },
  {
   "cell_type": "code",
   "execution_count": null,
   "metadata": {},
   "outputs": [],
   "source": []
  }
 ],
 "metadata": {
  "kernelspec": {
   "display_name": ".venv",
   "language": "python",
   "name": "python3"
  },
  "language_info": {
   "codemirror_mode": {
    "name": "ipython",
    "version": 3
   },
   "file_extension": ".py",
   "mimetype": "text/x-python",
   "name": "python",
   "nbconvert_exporter": "python",
   "pygments_lexer": "ipython3",
   "version": "3.12.6"
  }
 },
 "nbformat": 4,
 "nbformat_minor": 2
}
